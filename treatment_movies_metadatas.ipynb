{
 "cells": [
  {
   "cell_type": "code",
   "execution_count": 47,
   "id": "3c3a80f2-a42a-4d50-8508-32d27bb58979",
   "metadata": {},
   "outputs": [],
   "source": [
    "import ast\n",
    "import pandas as pd"
   ]
  },
  {
   "cell_type": "code",
   "execution_count": 48,
   "id": "dfee8ff0-680d-47b6-ab6f-ac100769c9a2",
   "metadata": {},
   "outputs": [
    {
     "name": "stderr",
     "output_type": "stream",
     "text": [
      "C:\\Users\\tonim\\AppData\\Local\\Temp\\ipykernel_11692\\129101185.py:1: DtypeWarning: Columns (10) have mixed types. Specify dtype option on import or set low_memory=False.\n",
      "  df = pd.read_csv(\"raw/movies_metadata.csv\")\n"
     ]
    }
   ],
   "source": [
    "df = pd.read_csv(\"raw/movies_metadata.csv\")"
   ]
  },
  {
   "cell_type": "code",
   "execution_count": 49,
   "id": "ed6af839-1d66-4906-a6b5-b3c29b385d76",
   "metadata": {},
   "outputs": [],
   "source": [
    "fields_of_interest = [\"adult\", \"budget\", \"genres\", \"id\", \"original_language\", \"original_title\", \"popularity\", \"production_countries\", \"release_date\", \"revenue\", \"runtime\", \"status\", \"title\", \"vote_average\", \"vote_count\"]\n",
    "\n",
    "df = df[fields_of_interest]"
   ]
  },
  {
   "cell_type": "code",
   "execution_count": 50,
   "id": "5da3b56d-9d82-4a50-86fa-216e33a13cc6",
   "metadata": {},
   "outputs": [],
   "source": [
    "df[\"genres\"] = df[\"genres\"].apply(lambda genders: \" - \".join([gende[\"name\"] for gende in ast.literal_eval(genders)]))"
   ]
  },
  {
   "cell_type": "code",
   "execution_count": 51,
   "id": "a90ab73d-4465-48b3-b849-c7b2853e592c",
   "metadata": {},
   "outputs": [],
   "source": [
    "df[\"budget\"] = pd.to_numeric(df[\"budget\"], \"coerce\").fillna(-1).astype(int)\n",
    "df[\"revenue\"] = pd.to_numeric(df[\"revenue\"], \"coerce\").fillna(-1).astype(int)"
   ]
  },
  {
   "cell_type": "code",
   "execution_count": 52,
   "id": "9f43320b-b1b9-44b7-8586-2d67b2375174",
   "metadata": {},
   "outputs": [],
   "source": [
    "df.set_index(\"id\", inplace = True)"
   ]
  },
  {
   "cell_type": "code",
   "execution_count": 53,
   "id": "8eb28621-69c9-49b8-ad4d-a6f2f555e695",
   "metadata": {},
   "outputs": [],
   "source": [
    "df.to_csv(\"data/movies_metadata.csv\")"
   ]
  }
 ],
 "metadata": {
  "kernelspec": {
   "display_name": "Python 3 (ipykernel)",
   "language": "python",
   "name": "python3"
  },
  "language_info": {
   "codemirror_mode": {
    "name": "ipython",
    "version": 3
   },
   "file_extension": ".py",
   "mimetype": "text/x-python",
   "name": "python",
   "nbconvert_exporter": "python",
   "pygments_lexer": "ipython3",
   "version": "3.11.0"
  }
 },
 "nbformat": 4,
 "nbformat_minor": 5
}
